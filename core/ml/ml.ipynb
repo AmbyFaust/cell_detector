{
 "cells": [
  {
   "cell_type": "code",
   "execution_count": null,
   "id": "initial_id",
   "metadata": {
    "collapsed": true
   },
   "outputs": [],
   "source": [
    "import cv2\n",
    "import numpy as np\n",
    "import os\n",
    "from skimage.measure import label, regionprops\n",
    "from sklearn.cluster import DBSCAN\n",
    "from matplotlib import pyplot as plt"
   ]
  },
  {
   "metadata": {},
   "cell_type": "code",
   "outputs": [],
   "execution_count": null,
   "source": [
    "data_original_path = '..\\\\..\\\\data\\\\test\\\\original\\\\'\n",
    "data_original_paths = [os.path.join(data_original_path, f) for f in os.listdir(data_original_path) \n",
    "             if os.path.isfile(os.path.join(data_original_path, f))]\n",
    "data_mask_path = '..\\\\..\\\\data\\\\test\\\\mask\\\\'\n",
    "data_mask_paths = [os.path.join(data_mask_path, f) for f in os.listdir(data_mask_path) \n",
    "             if os.path.isfile(os.path.join(data_mask_path, f))]\n",
    "\n",
    "for i in range(len(data_original_paths)):\n",
    "    original_name = data_original_paths[i].split('\\\\')[-1]\n",
    "    if original_name.split('.')[-1] == 'jpg':\n",
    "        old_path = data_original_paths[i]\n",
    "        data_original_paths[i] = ('\\\\'.join(data_original_paths[i].split('\\\\')[:-1]) +\n",
    "                                  '\\\\' + original_name.split('.')[0] + '.png')\n",
    "        original_name = data_original_paths[i].split('\\\\')[-1]\n",
    "        os.rename(old_path, data_original_paths[i])\n",
    "    mask_name = data_mask_paths[i].split('\\\\')[-1]\n",
    "    if original_name != mask_name:\n",
    "        print(original_name, mask_name)"
   ],
   "id": "76f372795a225d2b"
  },
  {
   "metadata": {},
   "cell_type": "code",
   "outputs": [],
   "execution_count": null,
   "source": [
    "def load_and_binarize_mask(mask_path, threshold=127):\n",
    "    mask = cv2.imread(mask_path, cv2.IMREAD_GRAYSCALE)\n",
    "    \n",
    "    _, binary_mask = cv2.threshold(mask, threshold, 1, cv2.THRESH_BINARY)\n",
    "    \n",
    "    return binary_mask"
   ],
   "id": "bfd8f38a5d63996"
  }
 ],
 "metadata": {
  "kernelspec": {
   "display_name": "Python 3",
   "language": "python",
   "name": "python3"
  },
  "language_info": {
   "codemirror_mode": {
    "name": "ipython",
    "version": 2
   },
   "file_extension": ".py",
   "mimetype": "text/x-python",
   "name": "python",
   "nbconvert_exporter": "python",
   "pygments_lexer": "ipython2",
   "version": "2.7.6"
  }
 },
 "nbformat": 4,
 "nbformat_minor": 5
}
